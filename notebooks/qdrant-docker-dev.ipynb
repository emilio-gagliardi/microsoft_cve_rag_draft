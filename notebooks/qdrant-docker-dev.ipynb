{
 "cells": [
  {
   "cell_type": "code",
   "execution_count": 2,
   "id": "094ec2ff-6f06-4286-9408-9caa83bbef01",
   "metadata": {},
   "outputs": [],
   "source": [
    "import os\n",
    "from dotenv import load_dotenv\n",
    "import phoenix as px"
   ]
  },
  {
   "cell_type": "code",
   "execution_count": 4,
   "id": "52405419-e006-48de-80d7-2edb0e6ea01a",
   "metadata": {},
   "outputs": [
    {
     "name": "stdout",
     "output_type": "stream",
     "text": [
      "C:\\Users\\emili\\PycharmProjects\\microsoft_cve_support_rag\\notebooks\n",
      "C:\\Users\\emili\\PycharmProjects\\microsoft_cve_support_rag\n"
     ]
    }
   ],
   "source": [
    "print(os.getcwd())\n",
    "os.chdir('..')\n",
    "print(os.getcwd())"
   ]
  },
  {
   "cell_type": "code",
   "execution_count": 5,
   "id": "35bd2364-271c-4fd3-b65a-55a1d4b76a66",
   "metadata": {},
   "outputs": [
    {
     "name": "stdout",
     "output_type": "stream",
     "text": [
      "local\n"
     ]
    }
   ],
   "source": [
    "# Path to your .env file\n",
    "dotenv_path = '.env.local'\n",
    "load_dotenv(dotenv_path)\n",
    "\n",
    "# Access an environment variable\n",
    "my_var = os.getenv('ENVIRONMENT')\n",
    "print(my_var)"
   ]
  },
  {
   "cell_type": "code",
   "execution_count": null,
   "id": "b1f75a96-7bf4-4c54-9244-68a7504efb1d",
   "metadata": {},
   "outputs": [],
   "source": []
  }
 ],
 "metadata": {
  "kernelspec": {
   "display_name": "cve_support_rag_venv",
   "language": "python",
   "name": "cve_support_rag_venv"
  },
  "language_info": {
   "codemirror_mode": {
    "name": "ipython",
    "version": 3
   },
   "file_extension": ".py",
   "mimetype": "text/x-python",
   "name": "python",
   "nbconvert_exporter": "python",
   "pygments_lexer": "ipython3",
   "version": "3.11.9"
  }
 },
 "nbformat": 4,
 "nbformat_minor": 5
}
